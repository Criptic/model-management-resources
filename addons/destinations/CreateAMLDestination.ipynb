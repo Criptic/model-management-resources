{
 "cells": [
  {
   "cell_type": "markdown",
   "metadata": {},
   "source": [
    "Copyright © 2021, SAS Institute Inc., Cary, NC, USA.  All Rights Reserved. \n",
    "SPDX-License-Identifier: Apache-2.0"
   ]
  },
  {
   "cell_type": "markdown",
   "metadata": {},
   "source": [
    "# Configure an Azure Machine Learning Container Publishing Destination\n",
    "\n",
    "In order to create an Azure Machine Learning (AML) destination, you must complete the following steps:\n",
    "\n",
    "1. Establish a connection and define URLs.\n",
    "2. Get an authorization token.\n",
    "3. Submit an API post to create an Azure Machine Learning destination."
   ]
  },
  {
   "cell_type": "markdown",
   "metadata": {},
   "source": [
    "## Establish a Connection and Define URLs"
   ]
  },
  {
   "cell_type": "code",
   "execution_count": 1,
   "metadata": {},
   "outputs": [],
   "source": [
    "import sys\n",
    "sys.path.append('..')\n",
    "import mmAuthorization\n",
    "\n",
    "import requests\n",
    "import json, os, pprint\n",
    "import base64"
   ]
  },
  {
   "cell_type": "code",
   "execution_count": null,
   "metadata": {},
   "outputs": [],
   "source": [
    "host_name= \"localhost\"\n",
    "port = \"8080\"\n",
    "\n",
    "host_url=\"http://\" + host_name + \":\" + port\n",
    "destination_url = host_url + \"/modelPublish/destinations/\"\n",
    "print(host_url)"
   ]
  },
  {
   "cell_type": "markdown",
   "metadata": {},
   "source": [
    "## Get an Authorization Token and Define Headers"
   ]
  },
  {
   "cell_type": "code",
   "execution_count": null,
   "metadata": {},
   "outputs": [],
   "source": [
    "mm_auth = mmAuthorization.mmAuthorization(\"myAuth\")\n",
    "\n",
    "admin_userId = '<SAS_user_admin_ID>'\n",
    "user_passwd =  '<SAS_user_password>'\n",
    "\n",
    "admin_auth_token = mm_auth.get_auth_token(host_url, admin_userId, user_passwd)\n",
    "\n",
    "destination_aml_headers = {\n",
    "    \"If-Match\":\"false\",\n",
    "    \"Content-Type\":\"application/vnd.sas.models.publishing.destination.aml+json\",\n",
    "    mmAuthorization.AUTHORIZATION_HEADER: mmAuthorization.AUTHORIZATION_TOKEN + admin_auth_token\n",
    "}\n",
    "\n",
    "print(admin_auth_token)"
   ]
  },
  {
   "cell_type": "markdown",
   "metadata": {},
   "source": [
    "## Create an AML Destination"
   ]
  },
  {
   "cell_type": "code",
   "execution_count": null,
   "metadata": {},
   "outputs": [],
   "source": [
    "dest_name = '<Destination_Name>'\n",
    "baseRepoUrl = '<AML_Container_Registry_Base_URL>'\n",
    "\n",
    "subscriptionId = '<Azure_Subscription_ID>'\n",
    "region = '<AML_Region_Value>'   # default value is eastus\n",
    "destination_attrs = {\n",
    "    'name': dest_name,\n",
    "    'destinationType': 'aml',\n",
    "    'properties': [\n",
    "                   {\"name\": \"baseRepoUrl\", \"value\": baseRepoUrl},\n",
    "                   {'name': \"subscriptionId\", \"value\": subscriptionId},\n",
    "                   {'name': \"region\", \"value\": region}]}\n",
    "\n",
    "destination = requests.post(destination_url, \n",
    "                       data=json.dumps(destination_attrs), headers=destination_aml_headers)\n",
    "\n",
    "print(destination)\n",
    "pprint.pprint(destination.json())"
   ]
  }
 ],
 "metadata": {
  "kernelspec": {
   "display_name": "Python 3",
   "language": "python",
   "name": "python3"
  },
  "language_info": {
   "codemirror_mode": {
    "name": "ipython",
    "version": 3
   },
   "file_extension": ".py",
   "mimetype": "text/x-python",
   "name": "python",
   "nbconvert_exporter": "python",
   "pygments_lexer": "ipython3",
   "version": "3.7.3"
  }
 },
 "nbformat": 4,
 "nbformat_minor": 4
}
